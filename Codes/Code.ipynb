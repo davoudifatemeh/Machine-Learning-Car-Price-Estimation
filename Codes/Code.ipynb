{
 "cells": [
  {
   "cell_type": "markdown",
   "id": "proper-cutting",
   "metadata": {},
   "source": [
    "<div dir=\"rtl\">\n",
    "    <font size=\"4\"><b>پروژه چهارم - یادگیری ماشین</b></font>\n",
    "    <font size=\"3\"><br>هدف پروژه : در این پروژه هدف تخمین قیمت خودروها در آگهی های سایت دیوار است. میخواهیم به کمک کتابخانه scikit learn و مدلهای پیاده سازی شده در آن، سعی کنیم برای هر مدل هایپرپارامترها را بهینه کنیم و در نهایت نتایج مدلها را باهم مقایسه کنیم.<br>مجموعه داده: تعدادی آگهی فروش خودرو در سایت دیوار در فرمت csv در اختیار داریم. در این داده، عنوان آگهی، توضیحات مربوط به خودرو، نوع خودرو، زمان درج آگهی، تعداد تصاویر بارگذاری شده در کنار آگهی، کارکرد خودرو و سال تولید آن مشخص شده است. در نهایت یک ستون قیمت خودرو وجود دارد که همان مدل هدف خواهد بود.</font>\n",
    "</div>"
   ]
  },
  {
   "cell_type": "markdown",
   "id": "expected-space",
   "metadata": {},
   "source": [
    "<div dir=\"rtl\">\n",
    "    <font size=\"4\"><b>فاز اول: پیش پردازش و مشاهده داده ها</b></font>\n",
    "    <font size=\"3\"><br></font>"
   ]
  },
  {
   "cell_type": "code",
   "execution_count": 1,
   "id": "resistant-drama",
   "metadata": {},
   "outputs": [
    {
     "name": "stdout",
     "output_type": "stream",
     "text": [
      "Requirement already satisfied: hazm in c:\\users\\artin\\anaconda3\\envs\\ai\\lib\\site-packages (0.7.0)\n",
      "Requirement already satisfied: nltk==3.3 in c:\\users\\artin\\anaconda3\\envs\\ai\\lib\\site-packages (from hazm) (3.3)\n",
      "Requirement already satisfied: six in c:\\users\\artin\\anaconda3\\envs\\ai\\lib\\site-packages (from nltk==3.3->hazm) (1.15.0)\n",
      "Note: you may need to restart the kernel to use updated packages.\n"
     ]
    }
   ],
   "source": [
    "pip install hazm"
   ]
  },
  {
   "cell_type": "code",
   "execution_count": 2,
   "id": "surface-seven",
   "metadata": {},
   "outputs": [],
   "source": [
    "import pandas as pd\n",
    "datum = pd.read_csv(\"vehicles.csv\")"
   ]
  },
  {
   "cell_type": "markdown",
   "id": "intelligent-coordination",
   "metadata": {},
   "source": [
    "<div dir=\"rtl\">\n",
    "    <font size=\"3\">حذف مقادیر خالی در ستون brand و مقادیر -1 در ستون price:</font>\n",
    "</div>"
   ]
  },
  {
   "cell_type": "code",
   "execution_count": 3,
   "id": "stock-location",
   "metadata": {},
   "outputs": [],
   "source": [
    "def drop_nan(datum):\n",
    "    datum = datum.dropna(subset=['brand'])\n",
    "    datum = datum[datum.price != -1]\n",
    "    return datum"
   ]
  },
  {
   "cell_type": "markdown",
   "id": "processed-favorite",
   "metadata": {},
   "source": [
    "<div dir=\"rtl\">\n",
    "    <font size=\"3\">encode کردن داده های ستون brand و category بصورت label:</font>\n",
    "</div>"
   ]
  },
  {
   "cell_type": "code",
   "execution_count": 4,
   "id": "faced-tablet",
   "metadata": {},
   "outputs": [],
   "source": [
    "from sklearn import preprocessing\n",
    "\n",
    "def encoding(datum):\n",
    "    le = preprocessing.LabelEncoder()\n",
    "    datum['category'] = le.fit_transform(datum['category'])\n",
    "    datum['brand'] = le.fit_transform(datum['brand'])\n",
    "    return datum"
   ]
  },
  {
   "cell_type": "markdown",
   "id": "hazardous-spotlight",
   "metadata": {},
   "source": [
    "<div dir=\"rtl\">\n",
    "    <font size=\"3\">Normalize کردن ستون title و description:</font>\n",
    "</div>"
   ]
  },
  {
   "cell_type": "code",
   "execution_count": 5,
   "id": "exclusive-healing",
   "metadata": {},
   "outputs": [],
   "source": [
    "from hazm import *\n",
    "\n",
    "def normalize(datum):\n",
    "    normalizer = Normalizer()\n",
    "    datum['text'] = datum['description'] + ' ' + datum['title']\n",
    "    datum['text'] = datum['text'].apply(lambda x: normalizer.normalize(x))\n",
    "    \n",
    "def tokenize(datum):\n",
    "    datum['text'] = datum['text'].apply(lambda x: word_tokenize(x))\n",
    "    \n",
    "def stemming(datum):\n",
    "    stemmer = Stemmer()\n",
    "    datum['text'] = datum['text'].apply(lambda x: [stemmer.stem(i) for i in x])\n",
    "    \n",
    "def remove_stop_words(datum):\n",
    "    signs = ['»','«','@','#','$','%','(',')','*','-','_','>','<','=','+','،','.','?','؟','!',':','؛']\n",
    "    stopwordslist = stopwords_list()\n",
    "    stopwordslist = stopwordslist + signs\n",
    "    stopwords = set(stopwordslist)\n",
    "    datum['text'] = datum['text'].apply(lambda x: [i for i in x if i not in stopwords])"
   ]
  },
  {
   "cell_type": "markdown",
   "id": "drawn-asset",
   "metadata": {},
   "source": [
    "<div dir=\"rtl\">\n",
    "    <font size=\"3\">تبدیل کردن مقادیر ستون year و created_at به عدد صحیح و اجرای عملیات tf_idf و countvectorizer برروی ستونهای title و description:</font>\n",
    "</div>"
   ]
  },
  {
   "cell_type": "code",
   "execution_count": 6,
   "id": "divine-advantage",
   "metadata": {},
   "outputs": [],
   "source": [
    "from datetime import datetime\n",
    "from sklearn.feature_extraction.text import TfidfVectorizer\n",
    "from sklearn.feature_extraction.text import CountVectorizer\n",
    "\n",
    "def year_to_int(datum):\n",
    "    datum['year'] = datum['year'].str.extract('(\\d+)', expand=False)\n",
    "    datum['year'] = datum['year'].astype(int)\n",
    "\n",
    "def datetime_to_int(datum):\n",
    "    week_days = {'Saturday': 0, 'Sunday': 1, 'Monday': 2, 'Tuesday': 3, 'Wednesday': 4, 'Thursday': 5, 'Friday': 6}\n",
    "    created_at = list(datum['created_at'])\n",
    "    for i in range(len(created_at)):\n",
    "        day = created_at[i].split(' ')[0]\n",
    "        dt = datetime.strptime(created_at[i], '%A %I%p')\n",
    "        created_at[i] = (week_days[day]*24) + dt.hour\n",
    "    datum['created_at'] = created_at\n",
    "    \n",
    "def tf_idf(datum):\n",
    "    datum['text'] = datum['text'].apply(lambda x: \" \".join(x))\n",
    "    \n",
    "    vectorizer = TfidfVectorizer(analyzer='word', ngram_range=(1, 1), max_features=200)  \n",
    "    vectorized = vectorizer.fit_transform(list(datum['text']))\n",
    "    df = pd.DataFrame(vectorized.toarray(), index=[int(i) for i in range(1, 1+len(datum))], columns=vectorizer.get_feature_names())\n",
    "    datum = datum.drop(['description', 'title', 'text'],axis=1)\n",
    "    datum[vectorizer.get_feature_names()] = df[vectorizer.get_feature_names()].values\n",
    "\n",
    "    return datum\n",
    "\n",
    "def count_vectorizer(datum):\n",
    "    datum['text'] = datum['text'].apply(lambda x: \" \".join(x))\n",
    "    \n",
    "    vectorizer = CountVectorizer(analyzer='word', ngram_range=(1, 1), max_features=200)  \n",
    "    vectorized = vectorizer.fit_transform(list(datum['text']))\n",
    "    df = pd.DataFrame(vectorized.toarray(), index=[int(i) for i in range(1, 1+len(datum))], columns=vectorizer.get_feature_names())\n",
    "    datum = datum.drop(['description', 'title', 'text'],axis=1)\n",
    "    datum[vectorizer.get_feature_names()] = df[vectorizer.get_feature_names()].values\n",
    "    \n",
    "    return datum"
   ]
  },
  {
   "cell_type": "markdown",
   "id": "infectious-swedish",
   "metadata": {},
   "source": [
    "<div dir=\"rtl\">\n",
    "    <font size=\"3\">محاسبه information gain ستونهای brand, category, created_at, image_caount, mileage و year:</font>\n",
    "</div>"
   ]
  },
  {
   "cell_type": "code",
   "execution_count": 7,
   "id": "extended-helmet",
   "metadata": {},
   "outputs": [],
   "source": [
    "from sklearn.feature_selection import mutual_info_regression\n",
    "from sklearn.linear_model import LinearRegression\n",
    "\n",
    "def information_gain(datum):\n",
    "    X = datum[['brand', 'category', 'created_at', 'image_count', 'mileage', 'year']]\n",
    "    target = datum['price']\n",
    "    mi = mutual_info_regression(X, target)\n",
    "    mi = pd.Series(mi)\n",
    "    mi.index = X.columns\n",
    "    mi.sort_values(ascending=False, inplace = True)\n",
    "    return mi"
   ]
  },
  {
   "cell_type": "markdown",
   "id": "radical-sacramento",
   "metadata": {},
   "source": [
    "<div dir=\"rtl\">\n",
    "    <font size=\"3\">رسم نمودار gainهای محاسبه شده ستونها بر حسب ستون قیمت:</font>\n",
    "</div>"
   ]
  },
  {
   "cell_type": "code",
   "execution_count": 8,
   "id": "enhanced-vietnamese",
   "metadata": {},
   "outputs": [],
   "source": [
    "import matplotlib.pyplot as plt\n",
    "\n",
    "def gain_diagram(mi):\n",
    "    plt.title('Mutual information with respect to features')\n",
    "    mi.plot.bar()\n",
    "    plt.show()"
   ]
  },
  {
   "cell_type": "code",
   "execution_count": 9,
   "id": "applied-october",
   "metadata": {},
   "outputs": [
    {
     "data": {
      "image/png": "[encoded data removed]",
      "text/plain": [
       "<Figure size 432x288 with 1 Axes>"
      ]
     },
     "metadata": {
      "needs_background": "light"
     },
     "output_type": "display_data"
    }
   ],
   "source": [
    "datum = drop_nan(datum)\n",
    "year_to_int(datum)\n",
    "datetime_to_int(datum)\n",
    "datum = encoding(datum)\n",
    "normalize(datum)\n",
    "tokenize(datum)\n",
    "stemming(datum)\n",
    "remove_stop_words(datum)\n",
    "#datum = tf_idf(datum)\n",
    "datum = count_vectorizer(datum)\n",
    "mi = information_gain(datum)\n",
    "gain_diagram(mi)"
   ]
  },
  {
   "cell_type": "markdown",
   "id": "touched-assurance",
   "metadata": {},
   "source": [
    "<div dir=\"rtl\">\n",
    "    <font size=\"3\">1) این نمودار میزان همبستگی و رابطه فیچرهای موردنظر با ویژگی هدف را مشخص میکند و به کمک این نمودار میتوان ویژگیهایی را که همبستگی بیشتری با ستون هدف دارند (دارای مقادیر IG بیشتری هستند) شناسایی کرد و از آنها برای ساخت مدل استفاده کرد.<br><br>\n",
    "    2) برای ستون brand و category که داده های به شکل دسته بندی هستند از روش label encoding استفاده میکنیم تا داده های به شکل قابل پردازش برای مدلهای یادگیری ماشین تبدیل شوند. دلیل انتخاب روش label encoding این است که برخلاف روش دیگر ستون جدیدی به دیتافریم اضافه نیمکند و حجم دیتا پردازشی افزایش پیدا نمیکند.<br><br>\n",
    "    3) تغییر تعداد کلمات تاثیر چندانی در بهتر کردن مدلسازی ها نداشت. استفاده از countvectorizer در مقایسه با tf_idf به مقدار کمی باعث بهتری شدن نتیجه مدل RandomForest شد.<br><br>\n",
    "    4) یکی از روشها حذف سطرهای مربوط به داده های از دست رفته است و روش دیگر جایگزین کردن مقدار از دست رفته با میانگین یا میانه داده های آن ستون است. ما در آماده سازی داده برای مسئله، روش اول را انتخاب کرده ایم.\n",
    "    </font>\n",
    "</div>"
   ]
  },
  {
   "cell_type": "markdown",
   "id": "complex-samuel",
   "metadata": {},
   "source": [
    "<div dir=\"rtl\">\n",
    "    <font size=\"4\"><b>فاز دوم: پیشبینی قیمت</b></font>\n",
    "    <font size=\"3\"><br></font>"
   ]
  },
  {
   "cell_type": "markdown",
   "id": "differential-activity",
   "metadata": {},
   "source": [
    "<div dir=\"rtl\">\n",
    "    <font size=\"3\">تقسیم داده ها به دو قسمت train و test با نسبت p:</font>\n",
    "</div>"
   ]
  },
  {
   "cell_type": "code",
   "execution_count": 10,
   "id": "unlimited-earth",
   "metadata": {},
   "outputs": [],
   "source": [
    "from sklearn.model_selection import train_test_split\n",
    "\n",
    "def split_data(datum, p):\n",
    "    train, test = train_test_split(datum, test_size=p)\n",
    "    y_train = train['price']\n",
    "    x_train = train.drop(['price'], axis=1)\n",
    "    y_test = test['price']\n",
    "    x_test = test.drop(['price'], axis=1)\n",
    "    return x_train, y_train, x_test, y_test"
   ]
  },
  {
   "cell_type": "markdown",
   "id": "composed-choice",
   "metadata": {},
   "source": [
    "<div dir=\"rtl\">\n",
    "    <font size=\"3\">محاسبه مقادیر mse و rmse:</font>\n",
    "</div>"
   ]
  },
  {
   "cell_type": "code",
   "execution_count": 11,
   "id": "recognized-resource",
   "metadata": {},
   "outputs": [],
   "source": [
    "from sklearn.metrics import mean_squared_error as MSE\n",
    "import math\n",
    "\n",
    "def evaluate(y_test, y_predicted):\n",
    "    mse = MSE(y_test, y_predicted)\n",
    "    rmse = math.sqrt(mse)\n",
    "    return mse, rmse"
   ]
  },
  {
   "cell_type": "markdown",
   "id": "viral-plain",
   "metadata": {},
   "source": [
    "<div dir=\"rtl\">\n",
    "    <font size=\"3\">مدل KNN با مقدار هاپرپارامتر k:</font>\n",
    "</div>"
   ]
  },
  {
   "cell_type": "code",
   "execution_count": 12,
   "id": "basic-spencer",
   "metadata": {},
   "outputs": [],
   "source": [
    "from sklearn.neighbors import KNeighborsRegressor\n",
    "\n",
    "def KNN(datum, k, p):\n",
    "    model = KNeighborsRegressor(n_neighbors=k)\n",
    "    x_train, y_train, x_test, y_test = split_data(datum, p)\n",
    "    model.fit(x_train, y_train)\n",
    "    y_predicted = model.predict(x_test)\n",
    "    return y_predicted, y_test"
   ]
  },
  {
   "cell_type": "markdown",
   "id": "heard-monaco",
   "metadata": {},
   "source": [
    "<div dir=\"rtl\">\n",
    "    <font size=\"3\">مدل DecisionTree با مقادیر هایپرپارامتر d و s:</font>\n",
    "</div>"
   ]
  },
  {
   "cell_type": "code",
   "execution_count": 33,
   "id": "automotive-university",
   "metadata": {},
   "outputs": [],
   "source": [
    "from sklearn.tree import DecisionTreeRegressor\n",
    "\n",
    "def Decision_Tree(x_train, y_train, x_test, s, d):\n",
    "    model = DecisionTreeRegressor(max_depth=d, min_samples_split=s) \n",
    "    model.fit(x_train, y_train)\n",
    "    y_predicted = model.predict(x_test)\n",
    "    return y_predicted"
   ]
  },
  {
   "cell_type": "markdown",
   "id": "limiting-mandate",
   "metadata": {},
   "source": [
    "<div dir=\"rtl\">\n",
    "    <font size=\"3\">مدل linear Regression:</font>\n",
    "</div>"
   ]
  },
  {
   "cell_type": "code",
   "execution_count": 14,
   "id": "suited-wayne",
   "metadata": {},
   "outputs": [],
   "source": [
    "from sklearn.linear_model import LinearRegression\n",
    "\n",
    "def Linear_Regression(datum, p):\n",
    "    model = LinearRegression()\n",
    "    x_train, y_train, x_test, y_test = split_data(datum, p)\n",
    "    model.fit(x_train, y_train)\n",
    "    y_predicted = model.predict(x_test)\n",
    "    return y_predicted, y_test"
   ]
  },
  {
   "cell_type": "markdown",
   "id": "greater-immunology",
   "metadata": {},
   "source": [
    "<div dir=\"rtl\">\n",
    "    <font size=\"3\">5) زمانیکه نسبت برابر 98 به 2 است خطای مدل کمتر میشود (نسبت به حالتی که ما p را در تابع split_data برابر با 0.1 درنظر گرفتیم). هنگامی که سهم دادهای آموزش کاهش میابد، مدل جامعیت خود را از دست میدهد و و احتمال overfitting بیشتر میشود. overfitting به این معناست که مدل با داده های train به خوبی کار میکند ولی برای برای داده های جدید قابل اعتماد نیست. حال اگر سهم داده های تست را خیلی کم و سهم داده های آموزش را خیلی زیاد کنیم آنگاه بدلیل اینکه داده های کمی برای ارزیابی مدل داریم نمیتوان مدل را بدرستی ارزیابی کرد و ممکن است underfitting رخ دهد. underfitting به این معناست که بدلیل یادگیری کم از داده ای آموزش، عمومی سازی اندک میشود. <br><br>\n",
    "        6)\n",
    "    </font>\n",
    "</div>"
   ]
  },
  {
   "cell_type": "code",
   "execution_count": 45,
   "id": "permanent-correlation",
   "metadata": {},
   "outputs": [
    {
     "data": {
      "image/png": "[encoded data removed]",
      "text/plain": [
       "<Figure size 432x288 with 1 Axes>"
      ]
     },
     "metadata": {
      "needs_background": "light"
     },
     "output_type": "display_data"
    }
   ],
   "source": [
    "mse_list = list()\n",
    "rmse_list = list()\n",
    "x = list()\n",
    "x_train, y_train, x_test, y_test = split_data(datum, 0.1)\n",
    "for d in range(1, 50):\n",
    "    y_predicted = Decision_Tree(x_train, y_train, x_test, 2, d)\n",
    "    mse, rmse = evaluate(y_test, y_predicted)\n",
    "    mse_list.append(mse/1000)\n",
    "    rmse_list.append(rmse/10000)\n",
    "    x.append(d)\n",
    "plt.plot(x, mse_list, color='#15c400', label='MSE')\n",
    "plt.xlabel('Depth in Decision Tree')\n",
    "plt.legend();"
   ]
  },
  {
   "cell_type": "code",
   "execution_count": 44,
   "id": "described-couple",
   "metadata": {},
   "outputs": [
    {
     "data": {
      "image/png": "[encoded data removed]",
      "text/plain": [
       "<Figure size 432x288 with 1 Axes>"
      ]
     },
     "metadata": {
      "needs_background": "light"
     },
     "output_type": "display_data"
    }
   ],
   "source": [
    "plt.plot(x, rmse_list, color='#ff0000', label='RSME')\n",
    "plt.xlabel('Depth in Decision Tree')\n",
    "plt.legend();"
   ]
  },
  {
   "cell_type": "markdown",
   "id": "neural-thinking",
   "metadata": {},
   "source": [
    "<div dir=\"rtl\">\n",
    "    <font size=\"4\"><b>فاز سوم: استفاده از مدلهای تجمعی</b></font>\n",
    "    <font size=\"3\"><br></font>"
   ]
  },
  {
   "cell_type": "code",
   "execution_count": 15,
   "id": "economic-fraud",
   "metadata": {},
   "outputs": [],
   "source": [
    "from sklearn.ensemble import RandomForestRegressor\n",
    "\n",
    "def Random_Forest(datum, n, b, p):\n",
    "    model = RandomForestRegressor(n_estimators=n, bootstrap=b)\n",
    "    x_train, y_train, x_test, y_test = split_data(datum, p)\n",
    "    model.fit(x_train, y_train)\n",
    "    y_predicted = model.predict(x_test)\n",
    "    return y_predicted, y_test"
   ]
  },
  {
   "cell_type": "markdown",
   "id": "printable-graham",
   "metadata": {},
   "source": [
    "<div dir=\"rtl\">\n",
    "    <font size=\"3\">7) بطور کلی در یک مدل درصورتی که مقدار bias بالا باشد به این معناست که توجه کمی به داده های آموزش شده است و اگر واریانس بالا باشد به این معناست که بیش از اندازه به داده های آموزش توجه شده است. حال در یک مدل اگر تواما bias زیاد و واریانس کم باشد underfitting رخ میدهد و اگر برعکس این حالت برقرار باشد یعنی bias کم و واریانس زیاد باشد overfitting رخ میدهد. <br>\n",
    "    از آنجایی که در ادامه مشاهده میشود که خطای مدل Random Forest کمتر از خطای مدل decision tree است پس پیشبینی میشود که bias و واریانس مدل Random Forest مقدار کمتری نسبت به decision tree دارد.</font>\n",
    "</div>"
   ]
  },
  {
   "cell_type": "code",
   "execution_count": 56,
   "id": "ready-ireland",
   "metadata": {},
   "outputs": [
    {
     "name": "stdout",
     "output_type": "stream",
     "text": [
      "KNN: MSE = 622501633359354.8 RSME = 24949982.6\n"
     ]
    }
   ],
   "source": [
    "y_predicted, y_test = KNN(datum, 10, 0.1)\n",
    "mse, rmse = evaluate(y_test, y_predicted)\n",
    "print('KNN: MSE = %.1f RSME = %.1f' %(mse ,rmse))"
   ]
  },
  {
   "cell_type": "code",
   "execution_count": 57,
   "id": "arbitrary-aging",
   "metadata": {},
   "outputs": [
    {
     "name": "stdout",
     "output_type": "stream",
     "text": [
      "Decision Tree: MSE = 148336043561966.2 RSME = 12179328.5\n"
     ]
    }
   ],
   "source": [
    "x_train, y_train, x_test, y_test = split_data(datum, 0.1)\n",
    "y_predicted = Decision_Tree(x_train, y_train, x_test, 2, 11)\n",
    "mse, rmse = evaluate(y_test, y_predicted)\n",
    "print('Decision Tree: MSE = %.1f RSME = %.1f' %(mse ,rmse))"
   ]
  },
  {
   "cell_type": "code",
   "execution_count": 58,
   "id": "deluxe-schedule",
   "metadata": {},
   "outputs": [
    {
     "name": "stdout",
     "output_type": "stream",
     "text": [
      "Linear Regression: MSE = 386094774989740.2 RSME = 19649294.5\n"
     ]
    }
   ],
   "source": [
    "y_predicted, y_test = Linear_Regression(datum, 0.1)\n",
    "mse, rmse = evaluate(y_test, y_predicted)\n",
    "print('Linear Regression: MSE = %.1f RSME = %.1f' %(mse ,rmse))"
   ]
  },
  {
   "cell_type": "code",
   "execution_count": 59,
   "id": "occupied-fetish",
   "metadata": {},
   "outputs": [
    {
     "name": "stdout",
     "output_type": "stream",
     "text": [
      "Random Forest: MSE = 98599717778598.4 RSME = 9929739.1\n"
     ]
    }
   ],
   "source": [
    "y_predicted, y_test = Random_Forest(datum, 50, True, 0.1)\n",
    "mse, rmse = evaluate(y_test, y_predicted)\n",
    "print('Random Forest: MSE = %.1f RSME = %.1f' %(mse ,rmse))"
   ]
  },
  {
   "cell_type": "code",
   "execution_count": null,
   "id": "standing-keyboard",
   "metadata": {},
   "outputs": [],
   "source": []
  }
 ],
 "metadata": {
  "kernelspec": {
   "display_name": "Python 3",
   "language": "python",
   "name": "python3"
  },
  "language_info": {
   "codemirror_mode": {
    "name": "ipython",
    "version": 3
   },
   "file_extension": ".py",
   "mimetype": "text/x-python",
   "name": "python",
   "nbconvert_exporter": "python",
   "pygments_lexer": "ipython3",
   "version": "3.7.10"
  }
 },
 "nbformat": 4,
 "nbformat_minor": 5
}
